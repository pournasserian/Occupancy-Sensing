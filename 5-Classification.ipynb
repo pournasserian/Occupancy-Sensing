{
 "cells": [
  {
   "cell_type": "code",
   "execution_count": 1,
   "metadata": {
    "collapsed": true
   },
   "outputs": [],
   "source": [
    "import os\n",
    "import time\n",
    "import pandas as pd\n",
    "import numpy as np\n",
    "import matplotlib.pyplot as plt\n",
    "from matplotlib.colors import ListedColormap\n",
    "from sklearn.model_selection import train_test_split\n",
    "from sklearn.preprocessing import StandardScaler\n",
    "from sklearn.datasets import make_moons, make_circles, make_classification\n",
    "from sklearn.neural_network import MLPClassifier\n",
    "from sklearn.neighbors import KNeighborsClassifier\n",
    "from sklearn.svm import SVC\n",
    "from sklearn.gaussian_process import GaussianProcessClassifier\n",
    "from sklearn.gaussian_process.kernels import RBF\n",
    "from sklearn.tree import DecisionTreeClassifier\n",
    "from sklearn.ensemble import RandomForestClassifier, AdaBoostClassifier\n",
    "from sklearn.naive_bayes import GaussianNB\n",
    "from sklearn.discriminant_analysis import QuadraticDiscriminantAnalysis"
   ]
  },
  {
   "cell_type": "code",
   "execution_count": 2,
   "metadata": {
    "collapsed": false
   },
   "outputs": [],
   "source": [
    "# load the data\n",
    "data_dir = os.getcwd() + '\\\\data\\\\'\n",
    "data = pd.read_csv(data_dir + '2.csv', index_col='timestamp')\n",
    "\n",
    "X = data.drop(['label', 'time'], 1)\n",
    "y = data['label']\n",
    "\n",
    "X_train, X_test, y_train, y_test = train_test_split(X, y, test_size=.3, random_state=42)"
   ]
  },
  {
   "cell_type": "code",
   "execution_count": 3,
   "metadata": {
    "collapsed": false
   },
   "outputs": [],
   "source": [
    "names = [\"Nearest Neighbors\", \"Gaussian Process\",\n",
    "         \"Decision Tree\", \"Random Forest\", \"Neural Net\", \"AdaBoost\",\n",
    "         \"Naive Bayes\", \"QDA\", \"Linear SVM\", \"RBF SVM\"]\n",
    "\n",
    "classifiers = [\n",
    "    KNeighborsClassifier(2),\n",
    "    GaussianProcessClassifier(),\n",
    "    #GaussianProcessClassifier(1.0 * RBF(1.0), warm_start=True),\n",
    "    DecisionTreeClassifier(max_depth=5),\n",
    "    RandomForestClassifier(max_depth=5, n_estimators=10, max_features=1),\n",
    "    MLPClassifier(alpha=1),\n",
    "    AdaBoostClassifier(),\n",
    "    GaussianNB(),\n",
    "    QuadraticDiscriminantAnalysis(),    \n",
    "    SVC(kernel=\"linear\", C=0.025),\n",
    "    SVC(gamma=2, C=1)]\n",
    "\n",
    "clfs = [None] * len(classifiers)\n",
    "scores = [None] * len(classifiers)"
   ]
  },
  {
   "cell_type": "code",
   "execution_count": 4,
   "metadata": {
    "collapsed": false
   },
   "outputs": [
    {
     "name": "stdout",
     "output_type": "stream",
     "text": [
      "Nearest Neighbors :0.997786998617\n",
      "It has been 1.6485142707824707 seconds since the loop started\n",
      "Gaussian Process :0.651175656985\n",
      "It has been 163.26646280288696 seconds since the loop started\n",
      "Decision Tree :0.995020746888\n",
      "It has been 165.65321397781372 seconds since the loop started\n",
      "Random Forest :0.982295988935\n",
      "It has been 165.7560169696808 seconds since the loop started\n",
      "Neural Net :0.960442600277\n",
      "It has been 170.2002112865448 seconds since the loop started\n",
      "AdaBoost :0.995573997234\n",
      "It has been 195.5537416934967 seconds since the loop started\n",
      "Naive Bayes :0.963762102351\n",
      "It has been 195.84043145179749 seconds since the loop started\n",
      "QDA :0.912309820194\n",
      "It has been 204.99592971801758 seconds since the loop started\n",
      "Linear SVM :0.989764868603\n",
      "It has been 415.0218389034271 seconds since the loop started\n",
      "RBF SVM :0.546887966805\n",
      "It has been 604.952962398529 seconds since the loop started\n"
     ]
    }
   ],
   "source": [
    "# iterate over classifiers\n",
    "i = 0\n",
    "program_starts = time.time()\n",
    "\n",
    "for name, clf in zip(names, classifiers):\n",
    "    clfs[i] = clf.fit(X_train, y_train)\n",
    "    scores[i] = clf.score(X_test, y_test)\n",
    "    print(name + ' :' + str(scores[i]))\n",
    "    i += 1\n",
    "    now = time.time()\n",
    "    print(\"It has been {0} seconds since the loop started\".format(now - program_starts))"
   ]
  }
 ],
 "metadata": {
  "anaconda-cloud": {},
  "kernelspec": {
   "display_name": "Python [conda root]",
   "language": "python",
   "name": "conda-root-py"
  },
  "language_info": {
   "codemirror_mode": {
    "name": "ipython",
    "version": 3
   },
   "file_extension": ".py",
   "mimetype": "text/x-python",
   "name": "python",
   "nbconvert_exporter": "python",
   "pygments_lexer": "ipython3",
   "version": "3.5.2"
  }
 },
 "nbformat": 4,
 "nbformat_minor": 1
}

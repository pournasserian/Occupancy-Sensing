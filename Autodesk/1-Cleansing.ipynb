{
 "cells": [
  {
   "cell_type": "markdown",
   "metadata": {},
   "source": [
    "# Reading and Preprocessing"
   ]
  },
  {
   "cell_type": "markdown",
   "metadata": {},
   "source": [
    "### Reading the data files"
   ]
  },
  {
   "cell_type": "code",
   "execution_count": 1,
   "metadata": {
    "collapsed": false
   },
   "outputs": [],
   "source": [
    "import os\n",
    "import pandas as pd\n",
    "import matplotlib.pyplot as plt\n",
    "import numpy as np\n",
    "import datetime\n",
    "\n",
    "# load the data\n",
    "data_dir = os.getcwd() + '\\\\data\\\\'\n",
    "\n",
    "raw_co2_1 = pd.read_csv(data_dir + 'co2_1k.csv', header=None)\n",
    "raw_co2_2 = pd.read_csv(data_dir + 'co2_10k.csv', header=None)\n",
    "\n",
    "raw_light_1 = pd.read_csv(data_dir + 'light0.csv', header=None)\n",
    "raw_light_2 = pd.read_csv(data_dir + 'light1.csv', header=None)\n",
    "\n",
    "raw_motion = pd.read_csv(data_dir + 'motion.csv', header=None)\n",
    "\n",
    "raw_power_1 = pd.read_csv(data_dir + 'power0.csv', header=None)\n",
    "raw_power_2 = pd.read_csv(data_dir + 'power1.csv', header=None)\n",
    "\n",
    "raw_sound = pd.read_csv(data_dir + 'sound.csv')\n",
    "\n",
    "raw_schedule = pd.read_csv(data_dir + 'schedule.csv')"
   ]
  },
  {
   "cell_type": "markdown",
   "metadata": {},
   "source": [
    "## Preparing data"
   ]
  },
  {
   "cell_type": "markdown",
   "metadata": {},
   "source": [
    "### Merging data\n",
    "Here are the abbreviations of column names:\n",
    "- ms: microseconds\n",
    "- tav: time-averaged value\n",
    "- tace: time-averaged compression error\n",
    "- sc: number of raw samples aggregated"
   ]
  },
  {
   "cell_type": "code",
   "execution_count": 2,
   "metadata": {
    "collapsed": false
   },
   "outputs": [],
   "source": [
    "raw_co2_1.columns = ['ms', 'co2_1_tav', 'co2_1_tac', 'co2_1_sc'] \n",
    "raw_co2_2.columns = ['ms', 'co2_2_tav', 'co2_2_tac', 'co2_2_sc']  \n",
    "raw_light_1.columns = ['ms', 'light_1_tav', 'light_1_tac', 'light_1_sc']   \n",
    "raw_light_2.columns = ['ms', 'light_2_tav', 'light_2_tac', 'light_2_sc']   \n",
    "raw_motion.columns = ['ms', 'motion_tav', 'motion_tac', 'motion_sc']   \n",
    "raw_power_1.columns = ['ms', 'power_1_tav', 'power_1_tac', 'power_1_sc']   \n",
    "raw_power_2.columns = ['ms', 'power_2_tav', 'power_2_tac', 'power_2_sc']   \n",
    "raw_sound.columns = ['ms', 'sound_tav', 'sound_tac', 'sound_sc']   \n",
    "raw_schedule.columns = ['ms', 'schedule_tav', 'schedule_tac', 'schedule_sc']   "
   ]
  },
  {
   "cell_type": "markdown",
   "metadata": {},
   "source": [
    "### Captured time frame (in milliseconds) of each sensor "
   ]
  },
  {
   "cell_type": "code",
   "execution_count": 3,
   "metadata": {
    "collapsed": false
   },
   "outputs": [
    {
     "name": "stdout",
     "output_type": "stream",
     "text": [
      "CO2 1:  1279237740000000 1280251200000000\n",
      "CO2 2: 1279237740000000 1280252280000000\n",
      "Light 1: 1279237740000000 1280252220000000\n",
      "Light 2: 1279237740000000 1280251320000000\n",
      "Motion: 1279237740000000 1280251200000000\n",
      "Power 1: 1279237740000000 1280251320000000\n",
      "Power 2: 1279237740000000 1280252940000000\n",
      "Sound: 1279237800000000 1280252700000000\n",
      "Schedule: 1279199760000000 1280250300000000\n"
     ]
    }
   ],
   "source": [
    "print('CO2 1: ', raw_co2_1['ms'].min(), raw_co2_1['ms'].max())\n",
    "print('CO2 2:', raw_co2_2['ms'].min(), raw_co2_2['ms'].max())\n",
    "print('Light 1:', raw_light_1['ms'].min(), raw_light_1['ms'].max())\n",
    "print('Light 2:', raw_light_2['ms'].min(), raw_light_2['ms'].max())\n",
    "print('Motion:', raw_motion['ms'].min(), raw_motion['ms'].max())\n",
    "print('Power 1:', raw_power_1['ms'].min(), raw_power_1['ms'].max())\n",
    "print('Power 2:', raw_power_2['ms'].min(), raw_power_2['ms'].max())\n",
    "print('Sound:', raw_sound['ms'].min(), raw_sound['ms'].max())\n",
    "print('Schedule:', raw_schedule['ms'].min(), raw_schedule['ms'].max())"
   ]
  },
  {
   "cell_type": "markdown",
   "metadata": {},
   "source": [
    "We can see that captured data for all sensors and ground truth is range [1279237800000000, 1280250300000000]. Therefore, we should remove the data outside of the range above."
   ]
  },
  {
   "cell_type": "code",
   "execution_count": 4,
   "metadata": {
    "collapsed": false
   },
   "outputs": [],
   "source": [
    "min_time = 1279237800000000\n",
    "max_time = 1280250300000000\n",
    "\n",
    "# Filtering the datasets for the specific range\n",
    "raw_co2_1 = raw_co2_1[(raw_co2_1.ms >= min_time) & (raw_co2_1.ms <= max_time)]\n",
    "raw_co2_2 = raw_co2_2[(raw_co2_2.ms >= min_time) & (raw_co2_2.ms <= max_time)]\n",
    "raw_light_1 = raw_light_1[(raw_light_1.ms >= min_time) & (raw_light_1.ms <= max_time)]\n",
    "raw_light_2 = raw_light_2[(raw_light_2.ms >= min_time) & (raw_light_2.ms <= max_time)]\n",
    "raw_motion = raw_motion[(raw_motion.ms >= min_time) & (raw_motion.ms <= max_time)]\n",
    "raw_power_1 = raw_power_1[(raw_power_1.ms >= min_time) & (raw_power_1.ms <= max_time)]\n",
    "raw_power_2 = raw_power_2[(raw_power_2.ms >= min_time) & (raw_power_2.ms <= max_time)]\n",
    "raw_sound = raw_sound[(raw_sound.ms >= min_time) & (raw_sound.ms <= max_time)]\n",
    "raw_schedule = raw_schedule[(raw_schedule.ms >= min_time) & (raw_schedule.ms <= max_time)]"
   ]
  },
  {
   "cell_type": "code",
   "execution_count": 5,
   "metadata": {
    "collapsed": false
   },
   "outputs": [],
   "source": [
    "# Converting millisecond column to index\n",
    "raw_co2_1 = raw_co2_1.set_index(['ms'])\n",
    "raw_co2_2 = raw_co2_2.set_index(['ms'])\n",
    "raw_light_1 = raw_light_1.set_index(['ms'])\n",
    "raw_light_2 = raw_light_2.set_index(['ms'])\n",
    "raw_motion = raw_motion.set_index(['ms'])\n",
    "raw_power_1 = raw_power_1.set_index(['ms'])\n",
    "raw_power_2 = raw_power_2.set_index(['ms'])\n",
    "raw_sound = raw_sound.set_index(['ms'])\n",
    "raw_schedule = raw_schedule.set_index(['ms'])\n",
    "\n",
    "# Merging all caputred data (outer join)\n",
    "data = pd.concat([raw_co2_1, raw_co2_2, raw_light_1, raw_light_2, \n",
    "           raw_motion, raw_power_1, raw_power_2, raw_sound, raw_schedule], axis=1)\n",
    "\n",
    "# Extracting date-time from milliseconds\n",
    "data['time'] = pd.to_datetime(data.index / 1000, unit='ms')"
   ]
  },
  {
   "cell_type": "code",
   "execution_count": 6,
   "metadata": {
    "collapsed": false
   },
   "outputs": [
    {
     "data": {
      "text/plain": [
       "0"
      ]
     },
     "execution_count": 6,
     "metadata": {},
     "output_type": "execute_result"
    }
   ],
   "source": [
    "# Number of NULL columns in data (due to above outer join)\n",
    "data.isnull().sum().sum()"
   ]
  },
  {
   "cell_type": "markdown",
   "metadata": {},
   "source": [
    "It shows that there is no NULL column data in the merged dataset."
   ]
  },
  {
   "cell_type": "markdown",
   "metadata": {},
   "source": [
    "### Saving cleansed data"
   ]
  },
  {
   "cell_type": "code",
   "execution_count": 7,
   "metadata": {
    "collapsed": false
   },
   "outputs": [],
   "source": [
    "data.to_csv(data_dir + '1.csv', index = True)"
   ]
  }
 ],
 "metadata": {
  "anaconda-cloud": {},
  "kernelspec": {
   "display_name": "Python [default]",
   "language": "python",
   "name": "python3"
  },
  "language_info": {
   "codemirror_mode": {
    "name": "ipython",
    "version": 3
   },
   "file_extension": ".py",
   "mimetype": "text/x-python",
   "name": "python",
   "nbconvert_exporter": "python",
   "pygments_lexer": "ipython3",
   "version": "3.5.2"
  }
 },
 "nbformat": 4,
 "nbformat_minor": 1
}
